{
  "nbformat": 4,
  "nbformat_minor": 0,
  "metadata": {
    "accelerator": "GPU",
    "colab": {
      "name": "Chest X Ray Covid 19 using KNN.ipynb",
      "provenance": [],
      "collapsed_sections": []
    },
    "kernelspec": {
      "display_name": "gputest",
      "language": "python",
      "name": "gputest"
    },
    "language_info": {
      "codemirror_mode": {
        "name": "ipython",
        "version": 3
      },
      "file_extension": ".py",
      "mimetype": "text/x-python",
      "name": "python",
      "nbconvert_exporter": "python",
      "pygments_lexer": "ipython3",
      "version": "3.7.7"
    }
  },
  "cells": [
    {
      "cell_type": "code",
      "metadata": {
        "id": "ahW4eDP4v3nf",
        "colab_type": "code",
        "colab": {
          "base_uri": "https://localhost:8080/",
          "height": 151
        },
        "outputId": "1abc7091-aa59-41c9-8e88-1370aea1a8e6"
      },
      "source": [
        "!git clone https://github.com/niazwazir/WAZIR_CORONA.git"
      ],
      "execution_count": 1,
      "outputs": [
        {
          "output_type": "stream",
          "text": [
            "Cloning into 'WAZIR_CORONA'...\n",
            "remote: Enumerating objects: 62, done.\u001b[K\n",
            "remote: Counting objects: 100% (62/62), done.\u001b[K\n",
            "remote: Compressing objects: 100% (61/61), done.\u001b[K\n",
            "remote: Total 801 (delta 0), reused 0 (delta 0), pack-reused 739\u001b[K\n",
            "Receiving objects: 100% (801/801), 342.60 MiB | 15.38 MiB/s, done.\n",
            "Resolving deltas: 100% (27/27), done.\n",
            "Checking out files: 100% (707/707), done.\n"
          ],
          "name": "stdout"
        }
      ]
    },
    {
      "cell_type": "code",
      "metadata": {
        "id": "bLMT0f3_v_WX",
        "colab_type": "code",
        "colab": {
          "base_uri": "https://localhost:8080/",
          "height": 34
        },
        "outputId": "4f84aefb-83a5-4741-efa7-7a154a9db88d"
      },
      "source": [
        "cd WAZIR_CORONA/"
      ],
      "execution_count": 2,
      "outputs": [
        {
          "output_type": "stream",
          "text": [
            "/content/WAZIR_CORONA\n"
          ],
          "name": "stdout"
        }
      ]
    },
    {
      "cell_type": "code",
      "metadata": {
        "id": "0pWcADtUv_aE",
        "colab_type": "code",
        "colab": {
          "base_uri": "https://localhost:8080/",
          "height": 34
        },
        "outputId": "af576aba-5254-4385-d3de-45583f444ba5"
      },
      "source": [
        "cd DATASET/"
      ],
      "execution_count": 3,
      "outputs": [
        {
          "output_type": "stream",
          "text": [
            "/content/WAZIR_CORONA/DATASET\n"
          ],
          "name": "stdout"
        }
      ]
    },
    {
      "cell_type": "code",
      "metadata": {
        "id": "E4kvQyaGR1_u",
        "colab_type": "code",
        "colab": {
          "base_uri": "https://localhost:8080/",
          "height": 319
        },
        "outputId": "01917e39-0179-4f3f-814a-f642c6e2864e"
      },
      "source": [
        "!pip install catboost"
      ],
      "execution_count": 5,
      "outputs": [
        {
          "output_type": "stream",
          "text": [
            "Collecting catboost\n",
            "\u001b[?25l  Downloading https://files.pythonhosted.org/packages/90/86/c3dcb600b4f9e7584ed90ea9d30a717fb5c0111574675f442c3e7bc19535/catboost-0.24.1-cp36-none-manylinux1_x86_64.whl (66.1MB)\n",
            "\u001b[K     |████████████████████████████████| 66.1MB 46kB/s \n",
            "\u001b[?25hRequirement already satisfied: plotly in /usr/local/lib/python3.6/dist-packages (from catboost) (4.4.1)\n",
            "Requirement already satisfied: six in /usr/local/lib/python3.6/dist-packages (from catboost) (1.15.0)\n",
            "Requirement already satisfied: scipy in /usr/local/lib/python3.6/dist-packages (from catboost) (1.4.1)\n",
            "Requirement already satisfied: pandas>=0.24.0 in /usr/local/lib/python3.6/dist-packages (from catboost) (1.0.5)\n",
            "Requirement already satisfied: matplotlib in /usr/local/lib/python3.6/dist-packages (from catboost) (3.2.2)\n",
            "Requirement already satisfied: numpy>=1.16.0 in /usr/local/lib/python3.6/dist-packages (from catboost) (1.18.5)\n",
            "Requirement already satisfied: graphviz in /usr/local/lib/python3.6/dist-packages (from catboost) (0.10.1)\n",
            "Requirement already satisfied: retrying>=1.3.3 in /usr/local/lib/python3.6/dist-packages (from plotly->catboost) (1.3.3)\n",
            "Requirement already satisfied: pytz>=2017.2 in /usr/local/lib/python3.6/dist-packages (from pandas>=0.24.0->catboost) (2018.9)\n",
            "Requirement already satisfied: python-dateutil>=2.6.1 in /usr/local/lib/python3.6/dist-packages (from pandas>=0.24.0->catboost) (2.8.1)\n",
            "Requirement already satisfied: cycler>=0.10 in /usr/local/lib/python3.6/dist-packages (from matplotlib->catboost) (0.10.0)\n",
            "Requirement already satisfied: kiwisolver>=1.0.1 in /usr/local/lib/python3.6/dist-packages (from matplotlib->catboost) (1.2.0)\n",
            "Requirement already satisfied: pyparsing!=2.0.4,!=2.1.2,!=2.1.6,>=2.0.1 in /usr/local/lib/python3.6/dist-packages (from matplotlib->catboost) (2.4.7)\n",
            "Installing collected packages: catboost\n",
            "Successfully installed catboost-0.24.1\n"
          ],
          "name": "stdout"
        }
      ]
    },
    {
      "cell_type": "code",
      "metadata": {
        "colab_type": "code",
        "id": "5rhGyanU0WgE",
        "colab": {}
      },
      "source": [
        "# Importing the Libraries\n",
        "import numpy as np\n",
        "import pandas as pd\n",
        "import os\n",
        "import cv2\n",
        "from sklearn.metrics import confusion_matrix\n",
        "import seaborn as sns\n",
        "from keras.preprocessing.image import ImageDataGenerator\n",
        "from keras.applications import MobileNet,VGG16,VGG19, DenseNet121,ResNet152,InceptionResNetV2,InceptionV3,VGG19,ResNet50,Xception\n",
        "from keras.applications.mobilenet import preprocess_input\n",
        "# from keras.applications.resnet50 import preprocess_input\n",
        "\n",
        "from lightgbm import LGBMClassifier\n",
        "import matplotlib.pyplot as plt\n",
        "from sklearn.model_selection import GridSearchCV\n",
        "from sklearn.ensemble import RandomForestClassifier\n",
        "from sklearn.metrics import accuracy_score,classification_report,roc_curve,auc\n",
        "# from mlxtend.evaluate import confusion_matrix\n",
        "# from mlxtend.plotting import plot_confusion_matrix\n",
        "\n",
        "import xgboost as xgb\n",
        "from catboost import CatBoostClassifier\n",
        "from sklearn.svm import SVC\n",
        "from sklearn.ensemble import AdaBoostClassifier\n",
        "from sklearn.tree import DecisionTreeClassifier\n",
        "from sklearn.neighbors import KNeighborsClassifier\n",
        "from sklearn.model_selection import cross_val_score,KFold\n",
        "import tensorflow as tf"
      ],
      "execution_count": 6,
      "outputs": []
    },
    {
      "cell_type": "code",
      "metadata": {
        "colab_type": "code",
        "id": "rbUhsR4eowc0",
        "colab": {}
      },
      "source": [
        "# Loading Training Images\n",
        "normal_images=os.listdir(os.path.join('TRAINING DATASET','COVID_NEGATIVE'))\n",
        "covid_images=os.listdir(os.path.join('TRAINING DATASET','COVID_POSITIVE'))"
      ],
      "execution_count": 7,
      "outputs": []
    },
    {
      "cell_type": "code",
      "metadata": {
        "colab_type": "code",
        "id": "Xf7ZcSO7qg1x",
        "colab": {}
      },
      "source": [
        "# Empty DataFrame\n",
        "normal_image_df=pd.DataFrame()\n",
        "covid_image_df=pd.DataFrame()"
      ],
      "execution_count": 8,
      "outputs": []
    },
    {
      "cell_type": "code",
      "metadata": {
        "colab_type": "code",
        "id": "e935BJoGqqDj",
        "colab": {}
      },
      "source": [
        "normal_image_df['ID']=normal_images\n",
        "normal_image_df['label']='normal'"
      ],
      "execution_count": 9,
      "outputs": []
    },
    {
      "cell_type": "code",
      "metadata": {
        "colab_type": "code",
        "id": "vPZasdI8jZBh",
        "colab": {}
      },
      "source": [
        "covid_image_df['ID']=covid_images\n",
        "covid_image_df['label']='covid'"
      ],
      "execution_count": 10,
      "outputs": []
    },
    {
      "cell_type": "code",
      "metadata": {
        "colab_type": "code",
        "id": "VzIgjGS4jj-E",
        "colab": {
          "base_uri": "https://localhost:8080/",
          "height": 402
        },
        "outputId": "f0411ee6-445b-497d-f94e-b4a2cc636148"
      },
      "source": [
        "covid_image_df"
      ],
      "execution_count": 11,
      "outputs": [
        {
          "output_type": "execute_result",
          "data": {
            "text/html": [
              "<div>\n",
              "<style scoped>\n",
              "    .dataframe tbody tr th:only-of-type {\n",
              "        vertical-align: middle;\n",
              "    }\n",
              "\n",
              "    .dataframe tbody tr th {\n",
              "        vertical-align: top;\n",
              "    }\n",
              "\n",
              "    .dataframe thead th {\n",
              "        text-align: right;\n",
              "    }\n",
              "</style>\n",
              "<table border=\"1\" class=\"dataframe\">\n",
              "  <thead>\n",
              "    <tr style=\"text-align: right;\">\n",
              "      <th></th>\n",
              "      <th>ID</th>\n",
              "      <th>label</th>\n",
              "    </tr>\n",
              "  </thead>\n",
              "  <tbody>\n",
              "    <tr>\n",
              "      <th>0</th>\n",
              "      <td>COVIDPOSITIVE204.jpg</td>\n",
              "      <td>covid</td>\n",
              "    </tr>\n",
              "    <tr>\n",
              "      <th>1</th>\n",
              "      <td>COVIDPOSITIVE76.jpg</td>\n",
              "      <td>covid</td>\n",
              "    </tr>\n",
              "    <tr>\n",
              "      <th>2</th>\n",
              "      <td>COVIDPOSITIVE15.jpg</td>\n",
              "      <td>covid</td>\n",
              "    </tr>\n",
              "    <tr>\n",
              "      <th>3</th>\n",
              "      <td>COVIDPOSITIVE17.jpg</td>\n",
              "      <td>covid</td>\n",
              "    </tr>\n",
              "    <tr>\n",
              "      <th>4</th>\n",
              "      <td>COVIDPOSITIVE222.jpg</td>\n",
              "      <td>covid</td>\n",
              "    </tr>\n",
              "    <tr>\n",
              "      <th>...</th>\n",
              "      <td>...</td>\n",
              "      <td>...</td>\n",
              "    </tr>\n",
              "    <tr>\n",
              "      <th>148</th>\n",
              "      <td>COVIDPOSITIVE6.jpg</td>\n",
              "      <td>covid</td>\n",
              "    </tr>\n",
              "    <tr>\n",
              "      <th>149</th>\n",
              "      <td>COVIDPOSITIVE92.jpg</td>\n",
              "      <td>covid</td>\n",
              "    </tr>\n",
              "    <tr>\n",
              "      <th>150</th>\n",
              "      <td>COVIDPOSITIVE45.jpg</td>\n",
              "      <td>covid</td>\n",
              "    </tr>\n",
              "    <tr>\n",
              "      <th>151</th>\n",
              "      <td>COVIDPOSITIVE71.jpg</td>\n",
              "      <td>covid</td>\n",
              "    </tr>\n",
              "    <tr>\n",
              "      <th>152</th>\n",
              "      <td>COVIDPOSITIVE46.jpg</td>\n",
              "      <td>covid</td>\n",
              "    </tr>\n",
              "  </tbody>\n",
              "</table>\n",
              "<p>153 rows × 2 columns</p>\n",
              "</div>"
            ],
            "text/plain": [
              "                       ID  label\n",
              "0    COVIDPOSITIVE204.jpg  covid\n",
              "1     COVIDPOSITIVE76.jpg  covid\n",
              "2     COVIDPOSITIVE15.jpg  covid\n",
              "3     COVIDPOSITIVE17.jpg  covid\n",
              "4    COVIDPOSITIVE222.jpg  covid\n",
              "..                    ...    ...\n",
              "148    COVIDPOSITIVE6.jpg  covid\n",
              "149   COVIDPOSITIVE92.jpg  covid\n",
              "150   COVIDPOSITIVE45.jpg  covid\n",
              "151   COVIDPOSITIVE71.jpg  covid\n",
              "152   COVIDPOSITIVE46.jpg  covid\n",
              "\n",
              "[153 rows x 2 columns]"
            ]
          },
          "metadata": {
            "tags": []
          },
          "execution_count": 11
        }
      ]
    },
    {
      "cell_type": "code",
      "metadata": {
        "colab_type": "code",
        "id": "wKH-i2V2j0H8",
        "colab": {}
      },
      "source": [
        "train_df=pd.concat([normal_image_df,covid_image_df],ignore_index=True)"
      ],
      "execution_count": 12,
      "outputs": []
    },
    {
      "cell_type": "code",
      "metadata": {
        "colab_type": "code",
        "id": "BN1zl_LMxOVJ",
        "colab": {
          "base_uri": "https://localhost:8080/",
          "height": 343
        },
        "outputId": "701f181e-da3f-4899-e610-b1665059f6be"
      },
      "source": [
        "train_df.head(10)"
      ],
      "execution_count": 13,
      "outputs": [
        {
          "output_type": "execute_result",
          "data": {
            "text/html": [
              "<div>\n",
              "<style scoped>\n",
              "    .dataframe tbody tr th:only-of-type {\n",
              "        vertical-align: middle;\n",
              "    }\n",
              "\n",
              "    .dataframe tbody tr th {\n",
              "        vertical-align: top;\n",
              "    }\n",
              "\n",
              "    .dataframe thead th {\n",
              "        text-align: right;\n",
              "    }\n",
              "</style>\n",
              "<table border=\"1\" class=\"dataframe\">\n",
              "  <thead>\n",
              "    <tr style=\"text-align: right;\">\n",
              "      <th></th>\n",
              "      <th>ID</th>\n",
              "      <th>label</th>\n",
              "    </tr>\n",
              "  </thead>\n",
              "  <tbody>\n",
              "    <tr>\n",
              "      <th>0</th>\n",
              "      <td>NORMAL123.jpg</td>\n",
              "      <td>normal</td>\n",
              "    </tr>\n",
              "    <tr>\n",
              "      <th>1</th>\n",
              "      <td>NORMAL140.jpg</td>\n",
              "      <td>normal</td>\n",
              "    </tr>\n",
              "    <tr>\n",
              "      <th>2</th>\n",
              "      <td>NORMAL9.jpg</td>\n",
              "      <td>normal</td>\n",
              "    </tr>\n",
              "    <tr>\n",
              "      <th>3</th>\n",
              "      <td>NORMAL125.jpg</td>\n",
              "      <td>normal</td>\n",
              "    </tr>\n",
              "    <tr>\n",
              "      <th>4</th>\n",
              "      <td>NORMAL111.jpg</td>\n",
              "      <td>normal</td>\n",
              "    </tr>\n",
              "    <tr>\n",
              "      <th>5</th>\n",
              "      <td>NORMAL54.jpg</td>\n",
              "      <td>normal</td>\n",
              "    </tr>\n",
              "    <tr>\n",
              "      <th>6</th>\n",
              "      <td>NORMAL37.jpg</td>\n",
              "      <td>normal</td>\n",
              "    </tr>\n",
              "    <tr>\n",
              "      <th>7</th>\n",
              "      <td>NORMAL135.jpg</td>\n",
              "      <td>normal</td>\n",
              "    </tr>\n",
              "    <tr>\n",
              "      <th>8</th>\n",
              "      <td>NORMAL107.jpg</td>\n",
              "      <td>normal</td>\n",
              "    </tr>\n",
              "    <tr>\n",
              "      <th>9</th>\n",
              "      <td>NORMAL0.jpg</td>\n",
              "      <td>normal</td>\n",
              "    </tr>\n",
              "  </tbody>\n",
              "</table>\n",
              "</div>"
            ],
            "text/plain": [
              "              ID   label\n",
              "0  NORMAL123.jpg  normal\n",
              "1  NORMAL140.jpg  normal\n",
              "2    NORMAL9.jpg  normal\n",
              "3  NORMAL125.jpg  normal\n",
              "4  NORMAL111.jpg  normal\n",
              "5   NORMAL54.jpg  normal\n",
              "6   NORMAL37.jpg  normal\n",
              "7  NORMAL135.jpg  normal\n",
              "8  NORMAL107.jpg  normal\n",
              "9    NORMAL0.jpg  normal"
            ]
          },
          "metadata": {
            "tags": []
          },
          "execution_count": 13
        }
      ]
    },
    {
      "cell_type": "code",
      "metadata": {
        "colab_type": "code",
        "id": "zPjMJq19M0-r",
        "colab": {
          "base_uri": "https://localhost:8080/",
          "height": 34
        },
        "outputId": "5bb12eb2-bdd6-4a5d-845a-30ba9c45322d"
      },
      "source": [
        "len(train_df)"
      ],
      "execution_count": 14,
      "outputs": [
        {
          "output_type": "execute_result",
          "data": {
            "text/plain": [
              "353"
            ]
          },
          "metadata": {
            "tags": []
          },
          "execution_count": 14
        }
      ]
    },
    {
      "cell_type": "code",
      "metadata": {
        "colab_type": "code",
        "id": "uxaa79iwmVf2",
        "colab": {}
      },
      "source": [
        "# Loading Train Images\n",
        "train_images = []\n",
        "train_labels=[]\n",
        "for img_name,label in zip(train_df.ID,train_df.label):\n",
        "  if label=='normal':\n",
        "      img = cv2.imread(os.path.join('TRAINING DATASET/COVID_NEGATIVE',img_name))\n",
        "      img=cv2.resize(img,(224,224))\n",
        "      if img is not None:\n",
        "          train_images.append(img)\n",
        "          train_labels.append('normal')\n",
        "  else:\n",
        "      img=cv2.imread(os.path.join('TRAINING DATASET/COVID_POSITIVE',img_name))\n",
        "      img=cv2.resize(img,(224,224))\n",
        "      if img is not None:\n",
        "        train_images.append(img)\n",
        "        train_labels.append('covid')\n"
      ],
      "execution_count": 15,
      "outputs": []
    },
    {
      "cell_type": "code",
      "metadata": {
        "colab_type": "code",
        "id": "7BGY6a5HyyIR",
        "colab": {
          "base_uri": "https://localhost:8080/",
          "height": 34
        },
        "outputId": "98826725-73b2-4ce1-a30e-20eea31671d5"
      },
      "source": [
        "len(train_images)"
      ],
      "execution_count": 16,
      "outputs": [
        {
          "output_type": "execute_result",
          "data": {
            "text/plain": [
              "353"
            ]
          },
          "metadata": {
            "tags": []
          },
          "execution_count": 16
        }
      ]
    },
    {
      "cell_type": "code",
      "metadata": {
        "colab_type": "code",
        "id": "jZyQC_uMr8gp",
        "colab": {}
      },
      "source": [
        "# Loading Testing Images\n",
        "test_normal_images=os.listdir(os.path.join('TEST DATASET/COVID_NEGATIVE'))\n",
        "test_covid_images=os.listdir(os.path.join('TEST DATASET/COVID_POSITIVE'))"
      ],
      "execution_count": 17,
      "outputs": []
    },
    {
      "cell_type": "code",
      "metadata": {
        "colab_type": "code",
        "id": "foK8stKizgU9",
        "colab": {
          "base_uri": "https://localhost:8080/",
          "height": 34
        },
        "outputId": "c57abaa6-0b2e-4ae2-81bc-db3371496c47"
      },
      "source": [
        "len(test_covid_images)"
      ],
      "execution_count": 18,
      "outputs": [
        {
          "output_type": "execute_result",
          "data": {
            "text/plain": [
              "203"
            ]
          },
          "metadata": {
            "tags": []
          },
          "execution_count": 18
        }
      ]
    },
    {
      "cell_type": "code",
      "metadata": {
        "colab_type": "code",
        "id": "e_X-H6TquJHj",
        "colab": {}
      },
      "source": [
        "# Empty DataFrame\n",
        "test_normal_image_df=pd.DataFrame()\n",
        "test_covid_image_df=pd.DataFrame()"
      ],
      "execution_count": 19,
      "outputs": []
    },
    {
      "cell_type": "code",
      "metadata": {
        "colab_type": "code",
        "id": "mmI-2asLs-H7",
        "colab": {}
      },
      "source": [
        "test_normal_image_df['ID']=test_normal_images\n",
        "test_normal_image_df['label']='normal'"
      ],
      "execution_count": 20,
      "outputs": []
    },
    {
      "cell_type": "code",
      "metadata": {
        "colab_type": "code",
        "id": "n6yFM2PvtrER",
        "colab": {}
      },
      "source": [
        "test_covid_image_df['ID']=test_covid_images\n",
        "test_covid_image_df['label']='covid'"
      ],
      "execution_count": 21,
      "outputs": []
    },
    {
      "cell_type": "code",
      "metadata": {
        "colab_type": "code",
        "id": "3VDj1bQGtYmS",
        "colab": {}
      },
      "source": [
        "test_df=pd.concat([test_normal_image_df,test_covid_image_df],ignore_index=True)"
      ],
      "execution_count": 22,
      "outputs": []
    },
    {
      "cell_type": "code",
      "metadata": {
        "colab_type": "code",
        "id": "4jbxH06RwY4j",
        "colab": {
          "base_uri": "https://localhost:8080/",
          "height": 34
        },
        "outputId": "a64b58f9-8991-485c-80b8-83efdbf06178"
      },
      "source": [
        "len(test_df)"
      ],
      "execution_count": 23,
      "outputs": [
        {
          "output_type": "execute_result",
          "data": {
            "text/plain": [
              "353"
            ]
          },
          "metadata": {
            "tags": []
          },
          "execution_count": 23
        }
      ]
    },
    {
      "cell_type": "code",
      "metadata": {
        "colab_type": "code",
        "id": "IBADDDAGunKn",
        "colab": {
          "base_uri": "https://localhost:8080/",
          "height": 34
        },
        "outputId": "5ea57c61-a184-4023-94df-d42e5a1e05cb"
      },
      "source": [
        "len(list(set(test_normal_images)))"
      ],
      "execution_count": 24,
      "outputs": [
        {
          "output_type": "execute_result",
          "data": {
            "text/plain": [
              "150"
            ]
          },
          "metadata": {
            "tags": []
          },
          "execution_count": 24
        }
      ]
    },
    {
      "cell_type": "code",
      "metadata": {
        "colab_type": "code",
        "id": "xJwLkbDTsqWX",
        "colab": {}
      },
      "source": [
        "# Loading Testing Images\n",
        "test_images = []\n",
        "test_labels=[]\n",
        "for img_name,label in zip(test_df.ID,test_df.label):\n",
        "  if label=='normal':\n",
        "        img = cv2.imread(os.path.join('TEST DATASET/COVID_NEGATIVE',img_name))\n",
        "        img=cv2.resize(img,(224,224))\n",
        "        if img is not None:\n",
        "            test_images.append(img)\n",
        "            test_labels.append('normal')\n",
        "  else:\n",
        "      img=cv2.imread(os.path.join('TEST DATASET/COVID_POSITIVE',img_name))\n",
        "      img=cv2.resize(img,(224,224))\n",
        "      if img is not None:\n",
        "        test_images.append(img)\n",
        "        test_labels.append('covid')\n"
      ],
      "execution_count": 25,
      "outputs": []
    },
    {
      "cell_type": "code",
      "metadata": {
        "colab_type": "code",
        "id": "n40ijz9Y47Li",
        "colab": {}
      },
      "source": [
        "train_images=np.array(train_images)\n",
        "test_images=np.array(test_images)"
      ],
      "execution_count": 26,
      "outputs": []
    },
    {
      "cell_type": "code",
      "metadata": {
        "colab_type": "code",
        "id": "rESSbcCmFUoT",
        "colab": {}
      },
      "source": [
        "# # Normalizing Train and Test Images\n",
        "# train_images=train_images/255.\n",
        "# test_images=test_images/255."
      ],
      "execution_count": 27,
      "outputs": []
    },
    {
      "cell_type": "code",
      "metadata": {
        "colab_type": "code",
        "id": "a_iwBKWTFkvC",
        "colab": {
          "base_uri": "https://localhost:8080/",
          "height": 34
        },
        "outputId": "8878fd58-24cc-4b32-a067-cf9e3346cfc8"
      },
      "source": [
        "len(test_images)"
      ],
      "execution_count": 28,
      "outputs": [
        {
          "output_type": "execute_result",
          "data": {
            "text/plain": [
              "353"
            ]
          },
          "metadata": {
            "tags": []
          },
          "execution_count": 28
        }
      ]
    },
    {
      "cell_type": "code",
      "metadata": {
        "colab_type": "code",
        "id": "wTgWnhDE_tr4",
        "colab": {
          "base_uri": "https://localhost:8080/",
          "height": 50
        },
        "outputId": "79b7a46a-90e9-4ac1-e32d-54ad0b2d5429"
      },
      "source": [
        "# Feature Extraction for train\n",
        "#model = MobileNet(weights='imagenet', include_top=False)\n",
        "#model = VGG16(weights='imagenet', include_top=False)\n",
        "#model = DenseNet121(weights='imagenet', include_top=False)\n",
        "#model = ResNet152(weights='imagenet', include_top=False)\n",
        "#model = InceptionResNetV2(weights='imagenet', include_top=False)\n",
        "#model = InceptionV3(weights='imagenet', include_top=False)\n",
        "#model = VGG19(weights='imagenet', include_top=False)\n",
        "model = Xception(weights='imagenet', include_top=False)\n",
        "\n",
        "model_feature_list = []\n",
        "\n",
        "for img in train_images:  \n",
        "    img_data = np.expand_dims(img, axis=0)\n",
        "    img_data = preprocess_input(img_data)\n",
        "\n",
        "    model_feature = model.predict(img_data)\n",
        "    model_feature_np = np.array(model_feature)\n",
        "    model_feature_list.append(model_feature_np.flatten())\n",
        "\n",
        "train_x = np.array(model_feature_list)"
      ],
      "execution_count": 29,
      "outputs": [
        {
          "output_type": "stream",
          "text": [
            "Downloading data from https://storage.googleapis.com/tensorflow/keras-applications/xception/xception_weights_tf_dim_ordering_tf_kernels_notop.h5\n",
            "83689472/83683744 [==============================] - 1s 0us/step\n"
          ],
          "name": "stdout"
        }
      ]
    },
    {
      "cell_type": "code",
      "metadata": {
        "colab_type": "code",
        "id": "P9r2LW3QNhhk",
        "colab": {}
      },
      "source": [
        "# Feature Extraction for test\n",
        "#model = MobileNet(weights='imagenet', include_top=False)\n",
        "#model = VGG16(weights='imagenet', include_top=False)\n",
        "#model = DenseNet121(weights='imagenet', include_top=False)\n",
        "#model = ResNet152(weights='imagenet', include_top=False)\n",
        "#model = InceptionResNetV2(weights='imagenet', include_top=False)\n",
        "#model = InceptionV3(weights='imagenet', include_top=False)\n",
        "#model = VGG19(weights='imagenet', include_top=False)\n",
        "model = Xception(weights='imagenet', include_top=False)\n",
        "model_feature_list = []\n",
        "\n",
        "for img in test_images:  \n",
        "    img_data = np.expand_dims(img, axis=0)\n",
        "    img_data = preprocess_input(img_data)\n",
        "\n",
        "    model_feature = model.predict(img_data)\n",
        "    model_feature_np = np.array(model_feature)\n",
        "    model_feature_list.append(model_feature_np.flatten())\n",
        "\n",
        "test_x = np.array(model_feature_list)"
      ],
      "execution_count": 30,
      "outputs": []
    },
    {
      "cell_type": "code",
      "metadata": {
        "colab_type": "code",
        "id": "I8JL00UZGOnh",
        "colab": {}
      },
      "source": [
        "# Label Encoding\n",
        "train_y=pd.Series(train_labels)\n",
        "label_encode={'normal':0,'covid':1}\n",
        "train_y=train_y.replace(label_encode)\n",
        "test_y=pd.Series(test_labels)\n",
        "test_y=test_y.replace(label_encode)\n",
        "train_y=train_y.astype('category')\n",
        "test_y=test_y.astype('category')"
      ],
      "execution_count": 31,
      "outputs": []
    },
    {
      "cell_type": "code",
      "metadata": {
        "colab_type": "code",
        "id": "zUYgisBCGwb8",
        "colab": {
          "base_uri": "https://localhost:8080/",
          "height": 292
        },
        "outputId": "d81a2c1c-c2d9-4838-b6e9-cbccb1bb63fe"
      },
      "source": [
        "# Count Bar Plot Train\n",
        "train_y.value_counts().plot(kind='bar')\n",
        "plt.plot()\n",
        "plt.title('Train Count Bar Plot')\n",
        "plt.xlabel('Image Label')\n",
        "plt.ylabel('Image Count')\n",
        "plt.show()\n"
      ],
      "execution_count": 32,
      "outputs": [
        {
          "output_type": "display_data",
          "data": {
            "image/png": "[encoded data removed]",
            "text/plain": [
              "<Figure size 432x288 with 1 Axes>"
            ]
          },
          "metadata": {
            "tags": [],
            "needs_background": "light"
          }
        }
      ]
    },
    {
      "cell_type": "code",
      "metadata": {
        "colab_type": "code",
        "id": "XOekxdu6LMeb",
        "colab": {
          "base_uri": "https://localhost:8080/",
          "height": 292
        },
        "outputId": "41fdf1eb-bc7b-4030-8579-f6397f3715a2"
      },
      "source": [
        "# Count Bar Plot on Test Data\n",
        "test_y.value_counts().plot(kind='bar')\n",
        "plt.plot()\n",
        "plt.title('Test Count Bar Plot')\n",
        "plt.xlabel('Image Label')\n",
        "plt.ylabel('Image Count')\n",
        "plt.show()"
      ],
      "execution_count": 33,
      "outputs": [
        {
          "output_type": "display_data",
          "data": {
            "image/png": "[encoded data removed]",
            "text/plain": [
              "<Figure size 432x288 with 1 Axes>"
            ]
          },
          "metadata": {
            "tags": [],
            "needs_background": "light"
          }
        }
      ]
    },
    {
      "cell_type": "code",
      "metadata": {
        "colab_type": "code",
        "id": "GnnurkCwLOgh",
        "colab": {
          "base_uri": "https://localhost:8080/",
          "height": 34
        },
        "outputId": "31922f60-9e7a-43c9-e1ba-b13fddcb3a53"
      },
      "source": [
        "test_y.dtype"
      ],
      "execution_count": 34,
      "outputs": [
        {
          "output_type": "execute_result",
          "data": {
            "text/plain": [
              "CategoricalDtype(categories=[0, 1], ordered=False)"
            ]
          },
          "metadata": {
            "tags": []
          },
          "execution_count": 34
        }
      ]
    },
    {
      "cell_type": "code",
      "metadata": {
        "colab_type": "code",
        "id": "IUkTgpfRFjkt",
        "colab": {
          "base_uri": "https://localhost:8080/",
          "height": 67
        },
        "outputId": "53dfee36-5a43-4b34-e3cf-b1bdad008f63"
      },
      "source": [
        "# Fitting the Classifier\n",
        "# classifier=SVC(kernel='rbf',C=0.5)\n",
        "# classifier.fit(train_x,train_y)\n",
        "\n",
        "\n",
        "# classifier=RandomForestClassifier(n_estimators=400,max_depth=7)\n",
        "# classifier.fit(train_x,train_y)\n",
        "\n",
        "# model = CatBoostClassifier(iterations=1500, learning_rate=0.01, l2_leaf_reg=3.5, depth=8, rsm=0.98, loss_function= 'Logloss', eval_metric='Accuracy',use_best_model=True,random_seed=42,gpu_ram_part=0.3,gpu_cat_features_storage='CpuPinnedMemory')\n",
        "# model.fit(train_x,train_y,eval_set=(test_x,test_y))\n",
        "# classifier = xgb.XGBClassifier(objective=\"binary:logistic\", random_state=42,n_estimators=1000)\n",
        "# classifier.fit(train_x,train_y)\n",
        "# classifier = AdaBoostClassifier(DecisionTreeClassifier(max_depth=1))\n",
        "# classifier= LGBMClassifier(boosting_type='gbdt',objective='binary',metric='accuracy')\n",
        "classifier=KNeighborsClassifier(n_neighbors=120,p=2)\n",
        "classifier.fit(train_x,train_y)\n"
      ],
      "execution_count": 35,
      "outputs": [
        {
          "output_type": "execute_result",
          "data": {
            "text/plain": [
              "KNeighborsClassifier(algorithm='auto', leaf_size=30, metric='minkowski',\n",
              "                     metric_params=None, n_jobs=None, n_neighbors=120, p=2,\n",
              "                     weights='uniform')"
            ]
          },
          "metadata": {
            "tags": []
          },
          "execution_count": 35
        }
      ]
    },
    {
      "cell_type": "code",
      "metadata": {
        "colab_type": "code",
        "id": "UKUHV7jNg1dW",
        "colab": {}
      },
      "source": [
        "# # n_neighbors selection\n",
        "# neighbors = list(range(1,20))\n",
        "# train_results = []\n",
        "# test_results = []\n",
        "# for n in neighbors:\n",
        "#    model = KNeighborsClassifier(n_neighbors=n)\n",
        "#    model.fit(train_x, train_y)\n",
        "#    train_pred = model.predict(train_x)\n",
        "#    false_positive_rate, true_positive_rate, thresholds = roc_curve(train_y, train_pred)\n",
        "#    roc_auc = auc(false_positive_rate, true_positive_rate)\n",
        "#    train_results.append(roc_auc)\n",
        "#    y_pred = model.predict(test_x)\n",
        "#    false_positive_rate, true_positive_rate, thresholds = roc_curve(test_y, y_pred)\n",
        "#    roc_auc = auc(false_positive_rate, true_positive_rate)\n",
        "#    test_results.append(roc_auc)\n",
        "# from matplotlib.legend_handler import HandlerLine2D\n",
        "# line1, = plt.plot(neighbors, train_results, 'b', label='Train AUC')\n",
        "# line2, = plt.plot(neighbors, test_results, 'r', label='Test AUC')\n",
        "# plt.legend(handler_map={line1: HandlerLine2D(numpoints=2)})\n",
        "# plt.ylabel('AUC score')\n",
        "# plt.xlabel('n_neighbors')\n",
        "# plt.show()"
      ],
      "execution_count": 36,
      "outputs": []
    },
    {
      "cell_type": "code",
      "metadata": {
        "colab_type": "code",
        "id": "YmfEMvPWhmaI",
        "colab": {}
      },
      "source": [
        "neighbors = list(range(1,200))"
      ],
      "execution_count": 37,
      "outputs": []
    },
    {
      "cell_type": "code",
      "metadata": {
        "colab_type": "code",
        "id": "dxWOH9V7hq9d",
        "colab": {
          "base_uri": "https://localhost:8080/",
          "height": 1000
        },
        "outputId": "24800140-f678-4daa-afdb-a9d36f5bd5aa"
      },
      "source": [
        "neighbors"
      ],
      "execution_count": 38,
      "outputs": [
        {
          "output_type": "execute_result",
          "data": {
            "text/plain": [
              "[1,\n",
              " 2,\n",
              " 3,\n",
              " 4,\n",
              " 5,\n",
              " 6,\n",
              " 7,\n",
              " 8,\n",
              " 9,\n",
              " 10,\n",
              " 11,\n",
              " 12,\n",
              " 13,\n",
              " 14,\n",
              " 15,\n",
              " 16,\n",
              " 17,\n",
              " 18,\n",
              " 19,\n",
              " 20,\n",
              " 21,\n",
              " 22,\n",
              " 23,\n",
              " 24,\n",
              " 25,\n",
              " 26,\n",
              " 27,\n",
              " 28,\n",
              " 29,\n",
              " 30,\n",
              " 31,\n",
              " 32,\n",
              " 33,\n",
              " 34,\n",
              " 35,\n",
              " 36,\n",
              " 37,\n",
              " 38,\n",
              " 39,\n",
              " 40,\n",
              " 41,\n",
              " 42,\n",
              " 43,\n",
              " 44,\n",
              " 45,\n",
              " 46,\n",
              " 47,\n",
              " 48,\n",
              " 49,\n",
              " 50,\n",
              " 51,\n",
              " 52,\n",
              " 53,\n",
              " 54,\n",
              " 55,\n",
              " 56,\n",
              " 57,\n",
              " 58,\n",
              " 59,\n",
              " 60,\n",
              " 61,\n",
              " 62,\n",
              " 63,\n",
              " 64,\n",
              " 65,\n",
              " 66,\n",
              " 67,\n",
              " 68,\n",
              " 69,\n",
              " 70,\n",
              " 71,\n",
              " 72,\n",
              " 73,\n",
              " 74,\n",
              " 75,\n",
              " 76,\n",
              " 77,\n",
              " 78,\n",
              " 79,\n",
              " 80,\n",
              " 81,\n",
              " 82,\n",
              " 83,\n",
              " 84,\n",
              " 85,\n",
              " 86,\n",
              " 87,\n",
              " 88,\n",
              " 89,\n",
              " 90,\n",
              " 91,\n",
              " 92,\n",
              " 93,\n",
              " 94,\n",
              " 95,\n",
              " 96,\n",
              " 97,\n",
              " 98,\n",
              " 99,\n",
              " 100,\n",
              " 101,\n",
              " 102,\n",
              " 103,\n",
              " 104,\n",
              " 105,\n",
              " 106,\n",
              " 107,\n",
              " 108,\n",
              " 109,\n",
              " 110,\n",
              " 111,\n",
              " 112,\n",
              " 113,\n",
              " 114,\n",
              " 115,\n",
              " 116,\n",
              " 117,\n",
              " 118,\n",
              " 119,\n",
              " 120,\n",
              " 121,\n",
              " 122,\n",
              " 123,\n",
              " 124,\n",
              " 125,\n",
              " 126,\n",
              " 127,\n",
              " 128,\n",
              " 129,\n",
              " 130,\n",
              " 131,\n",
              " 132,\n",
              " 133,\n",
              " 134,\n",
              " 135,\n",
              " 136,\n",
              " 137,\n",
              " 138,\n",
              " 139,\n",
              " 140,\n",
              " 141,\n",
              " 142,\n",
              " 143,\n",
              " 144,\n",
              " 145,\n",
              " 146,\n",
              " 147,\n",
              " 148,\n",
              " 149,\n",
              " 150,\n",
              " 151,\n",
              " 152,\n",
              " 153,\n",
              " 154,\n",
              " 155,\n",
              " 156,\n",
              " 157,\n",
              " 158,\n",
              " 159,\n",
              " 160,\n",
              " 161,\n",
              " 162,\n",
              " 163,\n",
              " 164,\n",
              " 165,\n",
              " 166,\n",
              " 167,\n",
              " 168,\n",
              " 169,\n",
              " 170,\n",
              " 171,\n",
              " 172,\n",
              " 173,\n",
              " 174,\n",
              " 175,\n",
              " 176,\n",
              " 177,\n",
              " 178,\n",
              " 179,\n",
              " 180,\n",
              " 181,\n",
              " 182,\n",
              " 183,\n",
              " 184,\n",
              " 185,\n",
              " 186,\n",
              " 187,\n",
              " 188,\n",
              " 189,\n",
              " 190,\n",
              " 191,\n",
              " 192,\n",
              " 193,\n",
              " 194,\n",
              " 195,\n",
              " 196,\n",
              " 197,\n",
              " 198,\n",
              " 199]"
            ]
          },
          "metadata": {
            "tags": []
          },
          "execution_count": 38
        }
      ]
    },
    {
      "cell_type": "code",
      "metadata": {
        "colab_type": "code",
        "id": "64JWZf1Pk4Ab",
        "colab": {}
      },
      "source": [
        "# # Hyperparameter Tuning\n",
        "# param_grid = {'n_neighbors':[80,90,120,200]}\n",
        "# grid=GridSearchCV(estimator=KNeighborsClassifier(),cv=5,param_grid=param_grid)\n",
        "# grid.fit(train_x,train_y)  "
      ],
      "execution_count": 39,
      "outputs": []
    },
    {
      "cell_type": "code",
      "metadata": {
        "colab_type": "code",
        "id": "ari9SWpQl8Pp",
        "colab": {}
      },
      "source": [
        "# print('Best Parameters',grid.best_params_)"
      ],
      "execution_count": 40,
      "outputs": []
    },
    {
      "cell_type": "code",
      "metadata": {
        "colab_type": "code",
        "id": "2I-eQWHvAWGo",
        "colab": {}
      },
      "source": [
        "# Predicting the Train Set Results\n",
        "y_pred_train=classifier.predict(train_x)"
      ],
      "execution_count": 41,
      "outputs": []
    },
    {
      "cell_type": "code",
      "metadata": {
        "colab_type": "code",
        "id": "OCXPyjikI-ua",
        "colab": {}
      },
      "source": [
        "# # Reshaping the Test Data\n",
        "# test_x=np.reshape(test_images, (test_images.shape[0], -1))"
      ],
      "execution_count": 42,
      "outputs": []
    },
    {
      "cell_type": "code",
      "metadata": {
        "colab_type": "code",
        "id": "sNIfGX0qJPyi",
        "colab": {}
      },
      "source": [
        "# test_x.shape"
      ],
      "execution_count": 43,
      "outputs": []
    },
    {
      "cell_type": "code",
      "metadata": {
        "colab_type": "code",
        "id": "J6tWPLltC4to",
        "colab": {}
      },
      "source": [
        "# Predicting the Test Set Results\n",
        "y_pred_test=classifier.predict(test_x)"
      ],
      "execution_count": 44,
      "outputs": []
    },
    {
      "cell_type": "code",
      "metadata": {
        "colab_type": "code",
        "id": "vO558jWarZaj",
        "colab": {
          "base_uri": "https://localhost:8080/",
          "height": 50
        },
        "outputId": "f01b2e9a-207e-490d-89f6-a5e6bffc14e5"
      },
      "source": [
        "#Checking the Accuracy\n",
        "\n",
        "print(\"Training Accuracy is:\",accuracy_score(train_y,y_pred_train))\n",
        "\n",
        "print(\"Testing Accuracy is:\",accuracy_score(test_y,y_pred_test))"
      ],
      "execution_count": 45,
      "outputs": [
        {
          "output_type": "stream",
          "text": [
            "Training Accuracy is: 0.9716713881019831\n",
            "Testing Accuracy is: 0.9858356940509915\n"
          ],
          "name": "stdout"
        }
      ]
    },
    {
      "cell_type": "code",
      "metadata": {
        "colab_type": "code",
        "id": "6zLLaItwIAPF",
        "colab": {
          "base_uri": "https://localhost:8080/",
          "height": 312
        },
        "outputId": "cd8ba59f-d5b0-4cf9-fd21-cdbf7360a190"
      },
      "source": [
        "# Confusion Matrix for training data\n",
        "\n",
        "cm=confusion_matrix(train_y, y_pred_train,labels=[1,0])\n",
        "ax= plt.subplot()\n",
        "sns.heatmap(cm, annot=True, ax = ax,fmt='g',cmap='Greens')\n",
        "# labels, title and ticks\n",
        "ax.set_xlabel('Predicted labels')\n",
        "ax.set_ylabel('True labels') \n",
        "ax.set_title('Confusion Matrix') \n",
        "ax.xaxis.set_ticklabels(['Covid', 'Normal'])\n",
        "ax.yaxis.set_ticklabels(['Covid','Normal'])\n",
        "\n",
        "# cm=confusion_matrix(y_target=train_y,y_predicted=y_pred_train)\n",
        "# fig,ax=plot_confusion_matrix(conf_mat=cm,cmap='Dark2',colorbar=True)\n",
        "# labels=['normal','covid']\n",
        "# ax.set_xticklabels([''] + labels)\n",
        "# ax.set_yticklabels([''] + labels)\n",
        "\n",
        "# plt.title('Confusion Matrix')\n",
        "\n",
        "# plt.show()\n"
      ],
      "execution_count": 46,
      "outputs": [
        {
          "output_type": "execute_result",
          "data": {
            "text/plain": [
              "[Text(0, 0.5, 'Covid'), Text(0, 1.5, 'Normal')]"
            ]
          },
          "metadata": {
            "tags": []
          },
          "execution_count": 46
        },
        {
          "output_type": "display_data",
          "data": {
            "image/png": "[encoded data removed]",
            "text/plain": [
              "<Figure size 432x288 with 2 Axes>"
            ]
          },
          "metadata": {
            "tags": [],
            "needs_background": "light"
          }
        }
      ]
    },
    {
      "cell_type": "code",
      "metadata": {
        "colab_type": "code",
        "id": "TJE4qAzTIUyP",
        "colab": {
          "base_uri": "https://localhost:8080/",
          "height": 312
        },
        "outputId": "901fc0b1-9f0d-4eaf-cfc7-bc1656d047f2"
      },
      "source": [
        "# Confusion Matrix for testing data\n",
        "\n",
        "cm=confusion_matrix(test_y, y_pred_test,labels=[1,0])\n",
        "ax= plt.subplot()\n",
        "sns.heatmap(cm, annot=True, ax = ax,fmt='g',cmap='Greens')\n",
        "# labels, title and ticks\n",
        "ax.set_xlabel('Predicted labels')\n",
        "ax.set_ylabel('True labels') \n",
        "ax.set_title('Confusion Matrix') \n",
        "ax.xaxis.set_ticklabels(['Covid Positive', 'Covid Negative'])\n",
        "ax.yaxis.set_ticklabels(['Covid Positive','Covid Negative'])\n",
        "# cm=confusion_matrix(y_target=test_y,y_predicted=y_pred_test)\n",
        "# fig,ax=plot_confusion_matrix(conf_mat=cm,cmap='Dark2',colorbar=True)\n",
        "# labels=['normal','covid']\n",
        "# ax.set_xticklabels([''] + labels)\n",
        "# ax.set_yticklabels([''] + labels)\n",
        "\n",
        "# plt.title('Confusion Matrix')\n",
        "# plt.show()"
      ],
      "execution_count": 47,
      "outputs": [
        {
          "output_type": "execute_result",
          "data": {
            "text/plain": [
              "[Text(0, 0.5, 'Covid Positive'), Text(0, 1.5, 'Covid Negative')]"
            ]
          },
          "metadata": {
            "tags": []
          },
          "execution_count": 47
        },
        {
          "output_type": "display_data",
          "data": {
            "image/png": "[encoded data removed]",
            "text/plain": [
              "<Figure size 432x288 with 2 Axes>"
            ]
          },
          "metadata": {
            "tags": [],
            "needs_background": "light"
          }
        }
      ]
    },
    {
      "cell_type": "code",
      "metadata": {
        "colab_type": "code",
        "id": "meBuxleKdkwi",
        "colab": {
          "base_uri": "https://localhost:8080/",
          "height": 67
        },
        "outputId": "ffa3951c-0542-4d11-f8d0-fe58a4b1e4d0"
      },
      "source": [
        "y_pred_test=pd.Series(y_pred_test)\n",
        "y_pred_test.value_counts()"
      ],
      "execution_count": 48,
      "outputs": [
        {
          "output_type": "execute_result",
          "data": {
            "text/plain": [
              "1    200\n",
              "0    153\n",
              "dtype: int64"
            ]
          },
          "metadata": {
            "tags": []
          },
          "execution_count": 48
        }
      ]
    },
    {
      "cell_type": "code",
      "metadata": {
        "colab_type": "code",
        "id": "TPSKnAzpYABW",
        "colab": {
          "base_uri": "https://localhost:8080/",
          "height": 168
        },
        "outputId": "3bceab09-3f34-4328-fa3b-0bbce0ba2811"
      },
      "source": [
        "# Training Classification Report\n",
        "print(classification_report(train_y,y_pred_train))"
      ],
      "execution_count": 49,
      "outputs": [
        {
          "output_type": "stream",
          "text": [
            "              precision    recall  f1-score   support\n",
            "\n",
            "           0       0.97      0.98      0.98       200\n",
            "           1       0.97      0.96      0.97       153\n",
            "\n",
            "    accuracy                           0.97       353\n",
            "   macro avg       0.97      0.97      0.97       353\n",
            "weighted avg       0.97      0.97      0.97       353\n",
            "\n"
          ],
          "name": "stdout"
        }
      ]
    },
    {
      "cell_type": "code",
      "metadata": {
        "colab_type": "code",
        "id": "fhCtYtpg-cjn",
        "colab": {
          "base_uri": "https://localhost:8080/",
          "height": 168
        },
        "outputId": "9cbf4ba8-7498-41a9-cd0a-e5d94f020def"
      },
      "source": [
        "# Testing Classification Report\n",
        "print(classification_report(test_y,y_pred_test))"
      ],
      "execution_count": 50,
      "outputs": [
        {
          "output_type": "stream",
          "text": [
            "              precision    recall  f1-score   support\n",
            "\n",
            "           0       0.97      0.99      0.98       150\n",
            "           1       0.99      0.98      0.99       203\n",
            "\n",
            "    accuracy                           0.99       353\n",
            "   macro avg       0.98      0.99      0.99       353\n",
            "weighted avg       0.99      0.99      0.99       353\n",
            "\n"
          ],
          "name": "stdout"
        }
      ]
    },
    {
      "cell_type": "code",
      "metadata": {
        "colab_type": "code",
        "id": "F349fkgm-tkw",
        "colab": {}
      },
      "source": [
        "# Checking the Cross Validation Score on Train Data\n",
        "scores_train = cross_val_score(classifier,train_x, train_y, cv=10,scoring='accuracy')"
      ],
      "execution_count": 51,
      "outputs": []
    },
    {
      "cell_type": "code",
      "metadata": {
        "colab_type": "code",
        "id": "-UakQy3OCwcx",
        "colab": {}
      },
      "source": [
        "# Checking the Cross Validation Score on Test Data\n",
        "scores_test=cross_val_score(classifier,test_x,test_y,cv=10,scoring='accuracy')"
      ],
      "execution_count": 52,
      "outputs": []
    },
    {
      "cell_type": "code",
      "metadata": {
        "colab_type": "code",
        "id": "4ffNVScaC9hZ",
        "colab": {
          "base_uri": "https://localhost:8080/",
          "height": 50
        },
        "outputId": "33ab2d46-9510-402c-ac42-60fe393c1ade"
      },
      "source": [
        "print('Mean Cross Validation Train Score:{}'.format(np.mean(scores_train)))\n",
        "print('Mean Cross Validation Test Score:{}'.format(np.mean(scores_test)))"
      ],
      "execution_count": 53,
      "outputs": [
        {
          "output_type": "stream",
          "text": [
            "Mean Cross Validation Train Score:0.9688095238095238\n",
            "Mean Cross Validation Test Score:0.9857936507936508\n"
          ],
          "name": "stdout"
        }
      ]
    }
  ]
}